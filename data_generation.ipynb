{
 "cells": [
  {
   "cell_type": "code",
   "execution_count": 6,
   "id": "4da93e59-fc59-4d05-bdfa-bd5e131a3432",
   "metadata": {},
   "outputs": [
    {
     "name": "stdout",
     "output_type": "stream",
     "text": [
      "Correlated and realistic dataset generated and saved as student_cleaned_for_excel.csv\n"
     ]
    }
   ],
   "source": [
    "# STEP 0: DATA GENERATION WITH CORRELATED REALISTIC DISTRIBUTIONS\n",
    "import pandas as pd\n",
    "import numpy as np\n",
    "import random\n",
    "\n",
    "np.random.seed(42)\n",
    "n = 2000\n",
    "\n",
    "first_names = ['Aarav', 'Vivaan', 'Aditya', 'Sai', 'Arjun', 'Anaya', 'Diya', 'Myra', 'Ishita', 'Kiara']\n",
    "last_names = ['Sharma', 'Verma', 'Singh', 'Gupta', 'Rao', 'Kumar', 'Jain', 'Mehta', 'Patel', 'Reddy']\n",
    "student_names = [f\"{random.choice(first_names)} {random.choice(last_names)}\" for _ in range(n)]\n",
    "student_ids = [f\"S{random.choice(['DS', 'AI', 'ML', 'CS'])}{str(i).zfill(4)}\" for i in range(1, n+1)]\n",
    "\n",
    "# Gender: majority Male/Female, few Others\n",
    "genders = np.random.choice(['Male', 'Female', 'Other'], size=n, p=[0.48, 0.48, 0.04])\n",
    "\n",
    "# Base GPA from normal distribution\n",
    "mu_gpa = 6.5\n",
    "sigma_gpa = 1.2\n",
    "gpa_vals = np.clip(np.random.normal(mu_gpa, sigma_gpa, n), 2.0, 10.0)\n",
    "\n",
    "# Attendance: positively correlated with GPA (with some noise)\n",
    "attendance = np.clip(gpa_vals * 10 + np.random.normal(0, 10, n), 40, 100)\n",
    "\n",
    "# Study Hours: positively correlated with GPA (more spread)\n",
    "study_hours = np.clip(gpa_vals * 2.5 + np.random.normal(0, 5, n), 0, 40)\n",
    "\n",
    "# Participation: correlated with GPA and attendance\n",
    "participation = np.clip((gpa_vals * 10 + attendance * 0.3 + np.random.normal(0, 10, n)) / 2, 0, 100)\n",
    "\n",
    "# Scores: strongly correlated with GPA\n",
    "assignment_scores = np.clip(gpa_vals * 10 + np.random.normal(0, 10, n), 0, 100)\n",
    "midterm_scores = np.clip(gpa_vals * 10 + np.random.normal(0, 12, n), 0, 100)\n",
    "final_scores = np.clip(gpa_vals * 10 + np.random.normal(0, 15, n), 0, 100)\n",
    "\n",
    "# Internet access: more likely for higher study hours\n",
    "internet = np.where(study_hours + np.random.normal(0, 5, n) > 12, 'Yes', 'No')\n",
    "\n",
    "# Part-time job: more likely for students with lower study hours\n",
    "part_time = np.where(study_hours + np.random.normal(0, 5, n) < 10, 'Yes', 'No')\n",
    "\n",
    "# Dropout risk: low GPA, attendance, and study hours increase risk\n",
    "risk_mask = (gpa_vals < 4.5) & (attendance < 60) & (study_hours < 5)\n",
    "dropout_risk = np.where(risk_mask, 'Yes', 'No')\n",
    "\n",
    "# Final DataFrame\n",
    "df = pd.DataFrame({\n",
    "    'Student_ID': student_ids,\n",
    "    'Student_Name': student_names,\n",
    "    'Gender': genders,\n",
    "    'Age': np.random.randint(17, 26, n),\n",
    "    'Attendance (%)': attendance.round(),\n",
    "    'GPA (last semester)': np.round(gpa_vals, 2),\n",
    "    'Study_Hours/week': study_hours.round(1),\n",
    "    'Participation (%)': participation.round(),\n",
    "    'Assignments_Score': assignment_scores.round(),\n",
    "    'Midterm_Score': midterm_scores.round(),\n",
    "    'Final_Score': final_scores.round(),\n",
    "    'Internet_Access': internet,\n",
    "    'Part_time_Job': part_time,\n",
    "    'Dropout_Risk': dropout_risk\n",
    "})\n",
    "\n",
    "# Export to CSV\n",
    "df.to_csv(\"student_performance_2000.csv\", index=False)\n",
    "print(\"Correlated and realistic dataset generated and saved as student_cleaned_for_excel.csv\")\n"
   ]
  }
 ],
 "metadata": {
  "kernelspec": {
   "display_name": "Python 3 (ipykernel)",
   "language": "python",
   "name": "python3"
  },
  "language_info": {
   "codemirror_mode": {
    "name": "ipython",
    "version": 3
   },
   "file_extension": ".py",
   "mimetype": "text/x-python",
   "name": "python",
   "nbconvert_exporter": "python",
   "pygments_lexer": "ipython3",
   "version": "3.11.9"
  }
 },
 "nbformat": 4,
 "nbformat_minor": 5
}
